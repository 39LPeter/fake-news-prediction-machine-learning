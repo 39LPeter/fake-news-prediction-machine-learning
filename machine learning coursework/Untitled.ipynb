{
 "cells": [
  {
   "cell_type": "code",
   "execution_count": 1,
   "id": "a619a369",
   "metadata": {},
   "outputs": [
    {
     "ename": "NameError",
     "evalue": "name 'Generate_decision_tree' is not defined",
     "output_type": "error",
     "traceback": [
      "\u001b[1;31m---------------------------------------------------------------------------\u001b[0m",
      "\u001b[1;31mNameError\u001b[0m                                 Traceback (most recent call last)",
      "Cell \u001b[1;32mIn[1], line 1\u001b[0m\n\u001b[1;32m----> 1\u001b[0m Algorithm : Generate_decision_tree\n",
      "\u001b[1;31mNameError\u001b[0m: name 'Generate_decision_tree' is not defined"
     ]
    }
   ],
   "source": [
    "Algorithm : Generate_decision_tree"
   ]
  },
  {
   "cell_type": "code",
   "execution_count": null,
   "id": "292370ee",
   "metadata": {},
   "outputs": [],
   "source": [
    "Data partition, D, which is a set of training tuples\n",
    "and their associated class labels.\n",
    "attribute_list, the set of candidate attributes.\n",
    "Attribute selection method, a procedure to determine the\n",
    "splitting criterion that best partitions that the data\n",
    "tuples into individual classes. This criterion includes a\n",
    "splitting_attribute and either a splitting point or splitting subset."
   ]
  }
 ],
 "metadata": {
  "kernelspec": {
   "display_name": "Python 3 (ipykernel)",
   "language": "python",
   "name": "python3"
  },
  "language_info": {
   "codemirror_mode": {
    "name": "ipython",
    "version": 3
   },
   "file_extension": ".py",
   "mimetype": "text/x-python",
   "name": "python",
   "nbconvert_exporter": "python",
   "pygments_lexer": "ipython3",
   "version": "3.11.5"
  }
 },
 "nbformat": 4,
 "nbformat_minor": 5
}
